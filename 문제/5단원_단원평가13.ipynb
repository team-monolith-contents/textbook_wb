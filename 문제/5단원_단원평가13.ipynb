{
 "cells": [
  {
   "cell_type": "markdown",
   "id": "3c1d31e0-69b4-4767-8546-f774688974dd",
   "metadata": {},
   "source": [
    "\n",
    "# 5단원 단원평가 13~15\n",
    "\n",
    "## 문제\n",
    "무비 차트(https://www.moviechart.co.kr)\n",
    "의 고객센터 자주 묻는 질문 페이지 1, 2쪽을 크롤링해 보자\n",
    "\n"
   ]
  },
  {
   "cell_type": "code",
   "execution_count": 1,
   "id": "96d6d181-031e-4a2a-97a2-054e27e441e3",
   "metadata": {
    "codle/previous_execution": {
     "code": "#답안\nimport requests\nfrom bs4 import BeautifulSoup\nimport time\nimport random\nurl_main = \"https://www.moviechart.co.kr\"\nurl_sub = \"/support/faq?page=\"   # 자주 묻는 질문\nurl = url_main + url_sub #####빈칸#####\npagerange = 2\nfor pagenm in range(1, pagerange+1) : #####빈칸#####\n    url = url_main + url_sub+str(pagenm)\n    req=requests.get(url)\n    print(\"status code :\", req.status_code)\n    if req.status_code == 200 : \n        html = req.content\n        soup = BeautifulSoup( html, \"html.parser\") #####빈칸#####\n        tdlist = soup.select(\"div.faq > ul.faq__list > li.faq__item > a.faq__tit\")\n        for x in tdlist:\n            print(\"=\"*100)\n            if x.select_one(\"p\") != None:\n                mtitle = x.select_one(\"p\").text.strip()\n            else:\n                mtitle = \"\"\n            print(mtitle)\n        interval = round(random.uniform(0.2,1.2),2)\n        time.sleep(interval)\n    else:\n        print(\"무비챠트에서 정상적으로 호출되지 않았습니다.\") ",
     "id": "4839967"
    },
    "tags": []
   },
   "outputs": [
    {
     "name": "stdout",
     "output_type": "stream",
     "text": [
      "status code : 200\n",
      "====================================================================================================\n",
      "예매하려는 극장이 목록에 없어요.\n",
      "====================================================================================================\n",
      "'일반관이 아님' 이라고 문자가 온 뒤 예매 취소가 됐어요.\n",
      "====================================================================================================\n",
      "예매자 이름이 일치하지 않습니다.\n",
      "====================================================================================================\n",
      "무비차트 사이트가 이용자가 많아 로그인이 어렵다고 나와서 접속이 안되거나, 로그인시 첫화면으로 되돌아옵니다.\n",
      "====================================================================================================\n",
      "상담원 예매는 안되나요?\n",
      "====================================================================================================\n",
      "카드 포인트 교환하여 쿠폰 발급을 하였는데 본인(교환한 대상)만 사용 가능한가요?\n",
      "====================================================================================================\n",
      "비밀번호 찾기를 하려는데 이메일이 잘못 저장 되어 임시비밀번호 발급 받을 수가 없습니다.\n",
      "====================================================================================================\n",
      "신용카드 예매시 비밀번호 오류로 결제가 안돼요.\n",
      "====================================================================================================\n",
      "예매취소한 내역이나 쿠폰내역은 어디서 확인 가능한가요?\n",
      "====================================================================================================\n",
      "계좌이체 결제할때 결제불가라는 메세지가 나옵니다.\n",
      "status code : 200\n",
      "====================================================================================================\n",
      "모바일상에선 결제가 안되나요?\n",
      "====================================================================================================\n",
      "영화예매 쿠폰 사용 방법을 모르겠어요.\n",
      "====================================================================================================\n",
      "쿠폰을 등록하는데 오류메세지가 뜹니다.\n",
      "====================================================================================================\n",
      "모바일상에선 예매가 안되나요?\n",
      "====================================================================================================\n",
      "당일예매는 불가능한가요?\n",
      "====================================================================================================\n",
      "예매내용을 변경 하려면 어떻게 해야하나요?\n",
      "====================================================================================================\n",
      "성인이나 학생, 유아 등 예매권 금액 기준이 다 같은건가요?\n",
      "====================================================================================================\n",
      "영화예매권. 할인권이 있습니다. 다른 결제수단과 복합 결제가 가능할까요?\n",
      "====================================================================================================\n",
      "예매권 및 할인권으로 쿠폰사용하여 예매했을 경우, 취소를 하면 다시 해당 쿠폰을 사용할 수 있나요?\n",
      "====================================================================================================\n",
      "신용카드, 계좌이체, 휴대폰 취소 환불할 경우 언제 다시 받을 수 있는 건가요?\n"
     ]
    }
   ],
   "source": [
    "#답안\n",
    "import requests\n",
    "from bs4 import BeautifulSoup\n",
    "import time\n",
    "import random\n",
    "url_main = \"https://www.moviechart.co.kr\"\n",
    "url_sub = \"/support/faq?page=\"   # 자주 묻는 질문\n",
    "url = url_main + url_sub #####빈칸#####\n",
    "pagerange = 2\n",
    "for pagenm in range(1, pagerange+1) : #####빈칸#####\n",
    "    url = url_main + url_sub+str(pagenm)\n",
    "    req=requests.get(url)\n",
    "    print(\"status code :\", req.status_code)\n",
    "    if req.status_code == 200 : \n",
    "        html = req.content\n",
    "        soup = BeautifulSoup( html, \"html.parser\") #####빈칸#####\n",
    "        tdlist = soup.select(\"div.faq > ul.faq__list > li.faq__item > a.faq__tit\")\n",
    "        for x in tdlist:\n",
    "            print(\"=\"*100)\n",
    "            if x.select_one(\"p\") != None:\n",
    "                mtitle = x.select_one(\"p\").text.strip()\n",
    "            else:\n",
    "                mtitle = \"\"\n",
    "            print(mtitle)\n",
    "        interval = round(random.uniform(0.2,1.2),2)\n",
    "        time.sleep(interval)\n",
    "    else:\n",
    "        print(\"무비챠트에서 정상적으로 호출되지 않았습니다.\") "
   ]
  },
  {
   "cell_type": "code",
   "execution_count": null,
   "id": "d2087b93-c1eb-4100-a85b-ce45f556d887",
   "metadata": {},
   "outputs": [],
   "source": [
    "#스켈레톤\n",
    "import requests\n",
    "from bs4 import BeautifulSoup\n",
    "import time\n",
    "import random\n",
    "url_main = \"https://www.moviechart.co.kr\"\n",
    "url_sub = \"/support/faq?page=\"   # 자주 묻는 질문\n",
    "pagerange = 2\n",
    "for pagenm in #####빈칸##### : \n",
    "    url = #####빈칸#####\n",
    "    req=requests.get(url)\n",
    "    print(\"status code :\", req.status_code)\n",
    "    if req.status_code == 200 : \n",
    "        html = req.content\n",
    "        soup = BeautifulSoup(#####빈칸#####) \n",
    "        tdlist = soup.select(\"div.faq > ul.faq__list > li.faq__item > a.faq__tit\")\n",
    "        for x in tdlist:\n",
    "            print(\"=\"*100)\n",
    "            if x.select_one(\"p\") != None:\n",
    "                mtitle = x.select_one(\"p\").text.strip()\n",
    "            else:\n",
    "                mtitle = \"\"\n",
    "            print(mtitle)\n",
    "        interval = round(random.uniform(0.2,1.2),2)\n",
    "        time.sleep(interval)\n",
    "    else:\n",
    "        print(\"무비챠트에서 정상적으로 호출되지 않았습니다.\") "
   ]
  },
  {
   "cell_type": "code",
   "execution_count": null,
   "id": "0199ac03-e5f1-43f3-9db5-e1bab97aaac3",
   "metadata": {},
   "outputs": [],
   "source": [
    "#test case\n",
    "#input\n",
    "#output\n",
    "\n",
    "#input\n",
    "#output\n",
    "\n",
    "#input\n",
    "#output\n",
    "\n",
    "#input\n",
    "#output\n",
    "\n",
    "#input\n",
    "#output"
   ]
  }
 ],
 "metadata": {
  "kernelspec": {
   "display_name": "Python 3 (ipykernel)",
   "language": "python",
   "name": "python3"
  },
  "language_info": {
   "codemirror_mode": {
    "name": "ipython",
    "version": 3
   },
   "file_extension": ".py",
   "mimetype": "text/x-python",
   "name": "python",
   "nbconvert_exporter": "python",
   "pygments_lexer": "ipython3",
   "version": "3.10.13"
  }
 },
 "nbformat": 4,
 "nbformat_minor": 5
}
