{
 "cells": [
  {
   "cell_type": "markdown",
   "id": "3c1d31e0-69b4-4767-8546-f774688974dd",
   "metadata": {},
   "source": [
    "\n",
    "# 3단원 단원평가9\n",
    "\n",
    "## 문제\n",
    "Dog라는 클래스를 생성하여 소스 결과 같이 결괏값을 구하고자 한다. 빈칸의 소스를 채워보자.\n",
    "\n",
    "## 입력\n",
    "dingo의 나이가 입력된다.  \n",
    "\n",
    "## 출력\n",
    "예시 출력과 동일한 형식으로 출력하되, 두번째로 dingo의 나이를 출력할 때는 입력값으로 받은 나이를 출력한다.\n",
    "\n",
    "\n",
    "## 예시 입력\n",
    "```\n",
    "10\n",
    "```\n",
    "\n",
    "\n",
    "## 예시 출력\n",
    "```\n",
    "happy의 이름은: happy\n",
    "happy의 나이는: 4\n",
    "dingo의 이름은: dingo\n",
    "dingo의 나이는: 5\n",
    "happy의 이름은: smile\n",
    "dingo의 나이는 10\n",
    "```\n"
   ]
  },
  {
   "cell_type": "code",
   "execution_count": 3,
   "id": "96d6d181-031e-4a2a-97a2-054e27e441e3",
   "metadata": {
    "codle/previous_execution": {
     "code": "#답안\nclass Dog:\n    def __init__(self,name,age):\n        self.name=name\n        self.age=age\n\n    def setName(self,name):\n        self.name=name\n\n    def getName(self):\n        return self.name\n\n    def setAge(self,age):\n        self.age=age\n\n    def getAge(self):\n        return self.age\n\nhappy=Dog(\"happy\",4)\ndingo=Dog(\"dingo\",5)\nprint(\"happy의 이름은:\", happy.getName() )\nprint(\"happy의 나이는:\",happy.getAge())\nprint(\"dingo의 이름은:\",dingo.getName())\nprint(\"dingo의 나이는:\", dingo.getAge() )\n\nhappy.setName(\"smile\")\nprint(\"happy의 이름은:\",happy.getName())\n\nn = input()\ndingo.setAge(n)\n\nprint(\"dingo의 나이는\",dingo.getAge()) ",
     "id": "4673403"
    },
    "tags": []
   },
   "outputs": [
    {
     "name": "stdout",
     "output_type": "stream",
     "text": [
      "happy의 이름은: happy\n",
      "happy의 나이는: 4\n",
      "dingo의 이름은: dingo\n",
      "dingo의 나이는: 5\n",
      "happy의 이름은: smile\n"
     ]
    },
    {
     "name": "stdin",
     "output_type": "stream",
     "text": [
      " 5\n"
     ]
    },
    {
     "name": "stdout",
     "output_type": "stream",
     "text": [
      "dingo의 나이는 5\n"
     ]
    }
   ],
   "source": [
    "#답안\n",
    "class Dog:\n",
    "    def __init__(self,name,age):\n",
    "        self.name=name\n",
    "        self.age=age\n",
    "\n",
    "    def setName(self,name):\n",
    "        self.name=name\n",
    "\n",
    "    def getName(self):\n",
    "        return self.name\n",
    "\n",
    "    def setAge(self,age):\n",
    "        self.age=age\n",
    "\n",
    "    def getAge(self):\n",
    "        return self.age\n",
    "\n",
    "happy=Dog(\"happy\",4)\n",
    "dingo=Dog(\"dingo\",5)\n",
    "print(\"happy의 이름은:\", happy.getName() )\n",
    "print(\"happy의 나이는:\",happy.getAge())\n",
    "print(\"dingo의 이름은:\",dingo.getName())\n",
    "print(\"dingo의 나이는:\", dingo.getAge() )\n",
    "\n",
    "happy.setName(\"smile\")\n",
    "print(\"happy의 이름은:\",happy.getName())\n",
    "\n",
    "n = input()\n",
    "dingo.setAge(n)\n",
    "\n",
    "print(\"dingo의 나이는\",dingo.getAge()) "
   ]
  },
  {
   "cell_type": "code",
   "execution_count": null,
   "id": "d2087b93-c1eb-4100-a85b-ce45f556d887",
   "metadata": {},
   "outputs": [],
   "source": [
    "#스켈레톤\n",
    "class Dog:\n",
    "    def __init__(self,name,age):\n",
    "        self.name=name\n",
    "        self.age=age\n",
    "\n",
    "    def setName(self,name):\n",
    "        self.name=name\n",
    "\n",
    "    def getName(self):\n",
    "        return self.name\n",
    "\n",
    "    def setAge(self,age):\n",
    "        self.age=age\n",
    "\n",
    "    def getAge(self):\n",
    "        return self.age\n",
    "\n",
    "happy=Dog(\"happy\",4)\n",
    "dingo=Dog(\"dingo\",5)\n",
    "print(\"happy의 이름은:\", ##빈칸## )\n",
    "print(\"happy의 나이는:\",happy.getAge())\n",
    "print(\"dingo의 이름은:\",dingo.getName())\n",
    "print(\"dingo의 나이는:\", ##빈칸## )\n",
    "\n",
    "happy.setName(\"smile\")\n",
    "print(\"happy의 이름은:\",happy.getName())\n",
    "      \n",
    "######빈칸을 채워주세요######\n",
    "\n",
    "print(\"dingo의 나이는\",dingo.getAge()) "
   ]
  },
  {
   "cell_type": "code",
   "execution_count": null,
   "id": "0199ac03-e5f1-43f3-9db5-e1bab97aaac3",
   "metadata": {},
   "outputs": [],
   "source": [
    "#test case\n",
    "#input\n",
    "#output\n",
    "\n",
    "#input\n",
    "#output\n",
    "\n",
    "#input\n",
    "#output\n",
    "\n",
    "#input\n",
    "#output\n",
    "\n",
    "#input\n",
    "#output"
   ]
  }
 ],
 "metadata": {
  "kernelspec": {
   "display_name": "Python 3 (ipykernel)",
   "language": "python",
   "name": "python3"
  },
  "language_info": {
   "codemirror_mode": {
    "name": "ipython",
    "version": 3
   },
   "file_extension": ".py",
   "mimetype": "text/x-python",
   "name": "python",
   "nbconvert_exporter": "python",
   "pygments_lexer": "ipython3",
   "version": "3.10.13"
  }
 },
 "nbformat": 4,
 "nbformat_minor": 5
}
