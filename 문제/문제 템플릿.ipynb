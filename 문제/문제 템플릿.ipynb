{
 "cells": [
  {
   "cell_type": "markdown",
   "id": "3c1d31e0-69b4-4767-8546-f774688974dd",
   "metadata": {},
   "source": [
    "\n",
    "# 참 거짓 연산1\n",
    "\n",
    "## 문제\n",
    "2개의 정수(integer) (a,b)를 입력받아 a 와 b의 불(bool) 값이 모두 True일 때만 True를 출력하는 프로그램을 작성해봅시다.\n",
    "\n",
    "## 입력\n",
    "2개의 정수가 공백을 두고 입력됩니다.\n",
    "\n",
    "## 출력\n",
    "둘 다 True 일 경우에만 True 를 출력하고, 그 외의 경우에는 False 를 출력합니다.\n",
    "\n",
    "## 예시 입력\n",
    "```\n",
    "0 1\n",
    "```\n",
    "\n",
    "## 예시 출력\n",
    "```\n",
    "False\n",
    "```\n"
   ]
  },
  {
   "cell_type": "code",
   "execution_count": null,
   "id": "96d6d181-031e-4a2a-97a2-054e27e441e3",
   "metadata": {},
   "outputs": [],
   "source": [
    "#답안"
   ]
  },
  {
   "cell_type": "code",
   "execution_count": null,
   "id": "d2087b93-c1eb-4100-a85b-ce45f556d887",
   "metadata": {},
   "outputs": [],
   "source": [
    "#스켈레톤"
   ]
  },
  {
   "cell_type": "code",
   "execution_count": null,
   "id": "0199ac03-e5f1-43f3-9db5-e1bab97aaac3",
   "metadata": {},
   "outputs": [],
   "source": [
    "#test case\n",
    "#input\n",
    "#output\n",
    "\n",
    "#input\n",
    "#output\n",
    "\n",
    "#input\n",
    "#output\n",
    "\n",
    "#input\n",
    "#output\n",
    "\n",
    "#input\n",
    "#output"
   ]
  }
 ],
 "metadata": {
  "kernelspec": {
   "display_name": "Python 3 (ipykernel)",
   "language": "python",
   "name": "python3"
  },
  "language_info": {
   "codemirror_mode": {
    "name": "ipython",
    "version": 3
   },
   "file_extension": ".py",
   "mimetype": "text/x-python",
   "name": "python",
   "nbconvert_exporter": "python",
   "pygments_lexer": "ipython3",
   "version": "3.10.13"
  }
 },
 "nbformat": 4,
 "nbformat_minor": 5
}
