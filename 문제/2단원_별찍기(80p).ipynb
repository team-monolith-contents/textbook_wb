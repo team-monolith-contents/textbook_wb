{
 "cells": [
  {
   "cell_type": "markdown",
   "id": "3c1d31e0-69b4-4767-8546-f774688974dd",
   "metadata": {},
   "source": [
    "\n",
    "# 별 찍기\n",
    "\n",
    "## 문제\n",
    "아래 결과와 같이 별(*)을 찍는 프로그램을 반복문을 사용하여 소스 코드를 완성해 보자.  \n",
    "```\n",
    "*\n",
    "**\n",
    "***\n",
    "****\n",
    "*****\n",
    "```\n",
    "\n",
    "## 입력\n",
    "입력값이 없습니다. \n",
    "\n",
    "## 출력\n",
    "문제에서 제시한 형식대로 별(*)을 출력합니다. \n",
    "\n",
    "## 예시 입력\n",
    "```\n",
    "입력값이 없습니다. \n",
    "```\n",
    "\n",
    "## 예시 출력\n",
    "```\n",
    "*\n",
    "**\n",
    "***\n",
    "****\n",
    "*****\n",
    "```\n"
   ]
  },
  {
   "cell_type": "code",
   "execution_count": 2,
   "id": "96d6d181-031e-4a2a-97a2-054e27e441e3",
   "metadata": {
    "codle/previous_execution": {
     "code": "#답안\nfor i in range(5):\n    for j in range(i+1):\n        print('*', end='')\n    print()",
     "id": "4512279"
    },
    "tags": []
   },
   "outputs": [
    {
     "name": "stdout",
     "output_type": "stream",
     "text": [
      "*\n",
      "**\n",
      "***\n",
      "****\n",
      "*****\n"
     ]
    }
   ],
   "source": [
    "#답안\n",
    "for i in range(5):\n",
    "    for j in range(i+1):\n",
    "        print('*', end='')\n",
    "    print()"
   ]
  },
  {
   "cell_type": "code",
   "execution_count": null,
   "id": "d2087b93-c1eb-4100-a85b-ce45f556d887",
   "metadata": {},
   "outputs": [],
   "source": [
    "#스켈레톤"
   ]
  },
  {
   "cell_type": "code",
   "execution_count": null,
   "id": "0199ac03-e5f1-43f3-9db5-e1bab97aaac3",
   "metadata": {},
   "outputs": [],
   "source": [
    "#test case\n",
    "#input\n",
    "#output\n",
    "\n",
    "#input\n",
    "#output\n",
    "\n",
    "#input\n",
    "#output\n",
    "\n",
    "#input\n",
    "#output\n",
    "\n",
    "#input\n",
    "#output"
   ]
  }
 ],
 "metadata": {
  "kernelspec": {
   "display_name": "Python 3 (ipykernel)",
   "language": "python",
   "name": "python3"
  },
  "language_info": {
   "codemirror_mode": {
    "name": "ipython",
    "version": 3
   },
   "file_extension": ".py",
   "mimetype": "text/x-python",
   "name": "python",
   "nbconvert_exporter": "python",
   "pygments_lexer": "ipython3",
   "version": "3.10.13"
  }
 },
 "nbformat": 4,
 "nbformat_minor": 5
}
