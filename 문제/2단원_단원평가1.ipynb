{
 "cells": [
  {
   "cell_type": "markdown",
   "id": "3c1d31e0-69b4-4767-8546-f774688974dd",
   "metadata": {},
   "source": [
    "\n",
    "# 2단원 단원평가1\n",
    "\n",
    "## 문제\n",
    "아래 소스 코드에서 에러가 발생하지 않도록 코드를 수정하시오.\n",
    "\n",
    "```python\n",
    "price = 3000\n",
    "age = input(\"입장료 계산을 위해 나이를 입력하세요:\")\n",
    "\n",
    "if age >= 20 :\n",
    "    print(\"성인은 요금이 1000원 추가됩니다.\")\n",
    "    price = price+1000\n",
    "    \n",
    "print(\"결제 요금 : \", price )\n",
    "```\n",
    "\n",
    "## 입력\n",
    "자연수 n이 입력됩니다. (1<=n<=100)\n",
    "\n",
    "## 출력\n",
    "입력값 n이 20 미만인 경우에는 3000을 20이상인 경우에는 4000을 출력합니다. \n",
    "\n",
    "## 예시 입력\n",
    "```\n",
    "30\n",
    "```\n",
    "\n",
    "## 예시 출력\n",
    "```\n",
    "4000\n",
    "```\n"
   ]
  },
  {
   "cell_type": "code",
   "execution_count": 1,
   "id": "96d6d181-031e-4a2a-97a2-054e27e441e3",
   "metadata": {
    "codle/previous_execution": {
     "code": "#답안\nprice = 3000\nage = int(input(\"입장료 계산을 위해 나이를 입력하세요:\"))\n\nif age >= 20 :\n    print(\"성인은 요금이 1000원 추가됩니다.\")\n    price = price+1000\n    \nprint(\"결제 요금 : \", price )",
     "id": "4512314"
    },
    "tags": []
   },
   "outputs": [
    {
     "name": "stdin",
     "output_type": "stream",
     "text": [
      "입장료 계산을 위해 나이를 입력하세요: 30\n"
     ]
    },
    {
     "name": "stdout",
     "output_type": "stream",
     "text": [
      "성인은 요금이 1000원 추가됩니다.\n",
      "결제 요금 :  4000\n"
     ]
    }
   ],
   "source": [
    "#답안\n",
    "price = 3000\n",
    "age = int(input(\"입장료 계산을 위해 나이를 입력하세요:\"))\n",
    "\n",
    "if age >= 20 :\n",
    "    print(\"성인은 요금이 1000원 추가됩니다.\")\n",
    "    price = price+1000\n",
    "    \n",
    "print(\"결제 요금 : \", price )"
   ]
  },
  {
   "cell_type": "code",
   "execution_count": null,
   "id": "d2087b93-c1eb-4100-a85b-ce45f556d887",
   "metadata": {},
   "outputs": [],
   "source": [
    "#스켈레톤\n",
    "price = 3000\n",
    "age = input(\"입장료 계산을 위해 나이를 입력하세요:\")\n",
    "\n",
    "if age >= 20 :\n",
    "    print(\"성인은 요금이 1000원 추가됩니다.\")\n",
    "    price = price+1000\n",
    "    \n",
    "print(\"결제 요금 : \", price )"
   ]
  },
  {
   "cell_type": "code",
   "execution_count": null,
   "id": "0199ac03-e5f1-43f3-9db5-e1bab97aaac3",
   "metadata": {},
   "outputs": [],
   "source": [
    "#test case\n",
    "#input\n",
    "30\n",
    "#output\n",
    "4000\n",
    "\n",
    "#input\n",
    "20\n",
    "#output\n",
    "4000\n",
    "\n",
    "#input\n",
    "1\n",
    "#output\n",
    "3000\n",
    "\n",
    "#input\n",
    "15\n",
    "#output\n",
    "3000\n",
    "\n",
    "#input\n",
    "100\n",
    "#output\n",
    "4000"
   ]
  }
 ],
 "metadata": {
  "kernelspec": {
   "display_name": "Python 3 (ipykernel)",
   "language": "python",
   "name": "python3"
  },
  "language_info": {
   "codemirror_mode": {
    "name": "ipython",
    "version": 3
   },
   "file_extension": ".py",
   "mimetype": "text/x-python",
   "name": "python",
   "nbconvert_exporter": "python",
   "pygments_lexer": "ipython3",
   "version": "3.10.13"
  }
 },
 "nbformat": 4,
 "nbformat_minor": 5
}
