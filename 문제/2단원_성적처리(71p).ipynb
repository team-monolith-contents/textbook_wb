{
 "cells": [
  {
   "cell_type": "markdown",
   "id": "3c1d31e0-69b4-4767-8546-f774688974dd",
   "metadata": {},
   "source": [
    "\n",
    "# 성적처리\n",
    "\n",
    "## 문제\n",
    "국어, 수학, 영어점수를 입력받아 평균을 계산하고, 평균이 90점 이상이면 A 등급, 80점 이상이면 B등급, 70점 이상이면 C 등급, 60점 이상이면 D 등급, 60점 미만이면 E 등급 처리되도록 소스 코드를 완성해 보자.\n",
    "\n",
    "## 입력\n",
    "국어, 수학, 영어 점수가 한 줄에 하나씩 입력됩니다. 이때 각 점수는 0~100 사이의 정수값입니다. \n",
    "\n",
    "## 출력\n",
    "입력된 성적에 해당되는 등급을 출력합니다.  \n",
    "\n",
    "\n",
    "## 예시 입력\n",
    "```\n",
    "80\n",
    "60\n",
    "70\n",
    "```\n",
    "\n",
    "## 예시 출력\n",
    "```\n",
    "C\n",
    "```\n"
   ]
  },
  {
   "cell_type": "code",
   "execution_count": null,
   "id": "d2087b93-c1eb-4100-a85b-ce45f556d887",
   "metadata": {},
   "outputs": [],
   "source": [
    "#스켈레톤\n",
    "kor=int(input(\"국어점수를 입력하세요:\"))\n",
    "math=int(input(\"수학점수를 입력하세요:\"))\n",
    "eng=int(input(\"영어점수를 입력하세요:\"))\n",
    "_sum=kor+math+eng\n",
    "_avg=_sum/3\n",
    "\n",
    "###############################################\n",
    "#         하단에 코드를 작성해주세요.           #\n",
    "###############################################\n",
    "\n",
    "\n",
    "###############################################\n",
    "#                   코드 끝                    #\n",
    "###############################################\n",
    "\n",
    "print(grade)"
   ]
  },
  {
   "cell_type": "code",
   "execution_count": 9,
   "id": "96d6d181-031e-4a2a-97a2-054e27e441e3",
   "metadata": {
    "codle/previous_execution": {
     "code": "#답안\nkor=int(input(\"국어점수를 입력하세요:\"))\nmath=int(input(\"수학점수를 입력하세요:\"))\neng=int(input(\"영어점수를 입력하세요:\"))\n_sum=kor+math+eng\n_avg=_sum/3\n\n###############################################\nif _avg >= 90:\n    grade = 'A'\nelif _avg >= 80:\n    grade = 'B'\nelif _avg >= 70:\n    grade = 'C'\nelif _avg >= 60:\n    grade = 'D'\nelse:\n    grade = 'E'\n###############################################\n\nprint(grade)",
     "id": "4512268"
    },
    "tags": []
   },
   "outputs": [
    {
     "name": "stdin",
     "output_type": "stream",
     "text": [
      "국어점수를 입력하세요: 80\n",
      "수학점수를 입력하세요: 90\n",
      "영어점수를 입력하세요: 75\n"
     ]
    },
    {
     "name": "stdout",
     "output_type": "stream",
     "text": [
      "B\n"
     ]
    }
   ],
   "source": [
    "#답안\n",
    "kor=int(input(\"국어점수를 입력하세요:\"))\n",
    "math=int(input(\"수학점수를 입력하세요:\"))\n",
    "eng=int(input(\"영어점수를 입력하세요:\"))\n",
    "_sum=kor+math+eng\n",
    "_avg=_sum/3\n",
    "\n",
    "###############################################\n",
    "if _avg >= 90:\n",
    "    grade = 'A'\n",
    "elif _avg >= 80:\n",
    "    grade = 'B'\n",
    "elif _avg >= 70:\n",
    "    grade = 'C'\n",
    "elif _avg >= 60:\n",
    "    grade = 'D'\n",
    "else:\n",
    "    grade = 'E'\n",
    "###############################################\n",
    "\n",
    "print(grade)"
   ]
  },
  {
   "cell_type": "code",
   "execution_count": null,
   "id": "0199ac03-e5f1-43f3-9db5-e1bab97aaac3",
   "metadata": {},
   "outputs": [],
   "source": [
    "#test case\n",
    "#input\n",
    "90\n",
    "90\n",
    "90\n",
    "#output\n",
    "A\n",
    "\n",
    "#input\n",
    "0\n",
    "0\n",
    "0\n",
    "#output\n",
    "E\n",
    "\n",
    "#input\n",
    "55\n",
    "82\n",
    "33\n",
    "#output\n",
    "E\n",
    "\n",
    "#input\n",
    "99\n",
    "56\n",
    "75\n",
    "#output\n",
    "C\n",
    "\n",
    "#input\n",
    "80\n",
    "90\n",
    "75\n",
    "#output\n",
    "B"
   ]
  }
 ],
 "metadata": {
  "kernelspec": {
   "display_name": "Python 3 (ipykernel)",
   "language": "python",
   "name": "python3"
  },
  "language_info": {
   "codemirror_mode": {
    "name": "ipython",
    "version": 3
   },
   "file_extension": ".py",
   "mimetype": "text/x-python",
   "name": "python",
   "nbconvert_exporter": "python",
   "pygments_lexer": "ipython3",
   "version": "3.10.13"
  }
 },
 "nbformat": 4,
 "nbformat_minor": 5
}
