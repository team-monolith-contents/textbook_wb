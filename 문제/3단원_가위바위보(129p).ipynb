{
 "cells": [
  {
   "cell_type": "markdown",
   "id": "3c1d31e0-69b4-4767-8546-f774688974dd",
   "metadata": {},
   "source": [
    "\n",
    "# 가위바위보\n",
    "\n",
    "## 문제\n",
    "랜덤 모듈을 이용하여 가위, 바위, 보 게임을 아래 결과와 같이 나오기 위해 소스코드의 빈칸을 채워보자. \n",
    "\n",
    "## 입력\n",
    "입력 프롬프트에 맞게 입력값이 입력됩니다.  \n",
    "\n",
    "## 출력\n",
    "가위바위보 게임의 결과를 출력합니다.  \n",
    "사람이 이긴 경우 '이겼다'를 출력하고, 컴퓨터가 이긴 경우 '졌다', 비긴 경우 '비겼다'를 출력합니다.  \n",
    "짝수 행에 n이 입력된 경우 '게임 끝'을 출력합니다. \n",
    "\n",
    "## 예시 결과\n",
    "```\n",
    "Enter your choice (가위/바위/보): 가위\n",
    "졌다.\n",
    "게임을 더하실래요? (y/n):  바위\n",
    "y 또는 n을 선택하세요:  y\n",
    "Enter your choice (가위/바위/보): 바위\n",
    "비겼다.\n",
    "게임을 더하실래요? (y/n):  n\n",
    "게임 끝\n",
    "```\n"
   ]
  },
  {
   "cell_type": "code",
   "execution_count": 1,
   "id": "96d6d181-031e-4a2a-97a2-054e27e441e3",
   "metadata": {
    "codle/previous_execution": {
     "code": "#답안\nfrom random import *\nseed(0)\n\ngame = ['가위','바위','보']\ny_or_n = 'y'\nwhile y_or_n.lower() == 'y' :\n    comp_choice = choice(game)\n\n    user_choice = input('Enter your choice (가위/바위/보):')\n\n    while user_choice not in game:\n        user_choice = input('Enter your choice (가위/바위/보):')\n\n    if comp_choice == user_choice:\n        print(\"비겼다.\")\n    elif comp_choice == '바위':\n        if user_choice == '보':\n            print('이겼다.')\n        else:\n            print('졌다.')\n            \n    elif comp_choice == '보' :\n        if user_choice == '가위':\n            print('이겼다.')\n        else:\n            print('졌다.')\n    else:\n        if user_choice == '바위':\n            print('이겼다.')\n        else:\n            print('졌다.')\n    y_or_n = input('게임을 더하실래요? (y/n): ')\n    while y_or_n.lower()!='y' and y_or_n.lower()!='n':\n        y_or_n = input('y 또는 n을 선택하세요: ')\n        \nif y_or_n.lower() == 'n' :\n    print('게임 끝')",
     "id": "4640502"
    },
    "tags": []
   },
   "outputs": [
    {
     "name": "stdin",
     "output_type": "stream",
     "text": [
      "Enter your choice (가위/바위/보): 가위\n"
     ]
    },
    {
     "name": "stdout",
     "output_type": "stream",
     "text": [
      "졌다.\n"
     ]
    },
    {
     "name": "stdin",
     "output_type": "stream",
     "text": [
      "게임을 더하실래요? (y/n):  바위\n",
      "y 또는 n을 선택하세요:  y\n",
      "Enter your choice (가위/바위/보): 바위\n"
     ]
    },
    {
     "name": "stdout",
     "output_type": "stream",
     "text": [
      "비겼다.\n"
     ]
    },
    {
     "name": "stdin",
     "output_type": "stream",
     "text": [
      "게임을 더하실래요? (y/n):  n\n"
     ]
    },
    {
     "name": "stdout",
     "output_type": "stream",
     "text": [
      "게임 끝\n"
     ]
    }
   ],
   "source": [
    "#답안\n",
    "from random import *\n",
    "seed(0)\n",
    "\n",
    "game = ['가위','바위','보']\n",
    "y_or_n = 'y'\n",
    "while y_or_n.lower() == 'y' :\n",
    "    comp_choice = choice(game)\n",
    "\n",
    "    user_choice = input('Enter your choice (가위/바위/보):')\n",
    "\n",
    "    while user_choice not in game:\n",
    "        user_choice = input('Enter your choice (가위/바위/보):')\n",
    "\n",
    "    if comp_choice == user_choice:\n",
    "        print(\"비겼다.\")\n",
    "    elif comp_choice == '바위':\n",
    "        if user_choice == '보':\n",
    "            print('이겼다.')\n",
    "        else:\n",
    "            print('졌다.')\n",
    "            \n",
    "    elif comp_choice == '보' :\n",
    "        if user_choice == '가위':\n",
    "            print('이겼다.')\n",
    "        else:\n",
    "            print('졌다.')\n",
    "    else:\n",
    "        if user_choice == '바위':\n",
    "            print('이겼다.')\n",
    "        else:\n",
    "            print('졌다.')\n",
    "    y_or_n = input('게임을 더하실래요? (y/n): ')\n",
    "    while y_or_n.lower()!='y' and y_or_n.lower()!='n':\n",
    "        y_or_n = input('y 또는 n을 선택하세요: ')\n",
    "        \n",
    "if y_or_n.lower() == 'n' :\n",
    "    print('게임 끝')"
   ]
  },
  {
   "cell_type": "code",
   "execution_count": null,
   "id": "d2087b93-c1eb-4100-a85b-ce45f556d887",
   "metadata": {},
   "outputs": [],
   "source": [
    "#스켈레톤  \n",
    "\n",
    "from random import *\n",
    "seed(0)\n",
    "\n",
    "game = ['가위','바위','보']\n",
    "y_or_n = 'y'\n",
    "while y_or_n.lower() == #반칸# :\n",
    "    comp_choice = choice(game)\n",
    "\n",
    "    user_choice = input('Enter your choice (가위/바위/보):')\n",
    "\n",
    "    while user_choice not in game:\n",
    "        user_choice = input('Enter your choice (가위/바위/보):')\n",
    "\n",
    "    if comp_choice == user_choice:\n",
    "        print(\"비겼다.\")\n",
    "    elif comp_choice == '바위':\n",
    "        if user_choice == '보':\n",
    "            print('이겼다.')\n",
    "        else:\n",
    "            print('졌다.')\n",
    "            \n",
    "    elif comp_choice == #빈칸# :\n",
    "        if user_choice == '가위':\n",
    "            print('이겼다.')\n",
    "        else:\n",
    "            print('졌다.')\n",
    "    else:\n",
    "        if user_choice == '바위':\n",
    "            print('이겼다.')\n",
    "        else:\n",
    "            print('졌다.')\n",
    "    y_or_n = input('게임을 더하실래요? (y/n): ')\n",
    "    while y_or_n.lower()!='y' and y_or_n.lower()!='n':\n",
    "        y_or_n = input('y 또는 n을 선택하세요: ')\n",
    "        \n",
    "if y_or_n.lower() == #빈칸# :\n",
    "    print('게임 끝')"
   ]
  },
  {
   "cell_type": "code",
   "execution_count": 6,
   "id": "2c3275b6-3e04-4599-a1b4-af044b1ecb2a",
   "metadata": {
    "codle/previous_execution": {
     "code": "from random import *\nseed(0)\n\ngame = ['가위','바위','보']\ny_or_n = 'y'\nwhile y_or_n.lower() == 'y' :\n    comp_choice = choice(game)\n\n    user_choice = input()\n\n    while user_choice not in game:\n        user_choice = input()\n\n    if comp_choice == user_choice:\n        print(\"비겼다.\")\n    elif comp_choice == '바위':\n        if user_choice == '보':\n            print('이겼다.')\n        else:\n            print('졌다.')\n            \n    elif comp_choice == '보' :\n        if user_choice == '가위':\n            print('이겼다.')\n        else:\n            print('졌다.')\n    else:\n        if user_choice == '바위':\n            print('이겼다.')\n        else:\n            print('졌다.')\n    y_or_n = input()\n    while y_or_n.lower()!='y' and y_or_n.lower()!='n':\n        y_or_n = input()\n        \nif y_or_n.lower() == 'n' :\n    print('게임 끝')",
     "id": "4640507"
    },
    "tags": []
   },
   "outputs": [
    {
     "name": "stdin",
     "output_type": "stream",
     "text": [
      " 가위\n"
     ]
    },
    {
     "name": "stdout",
     "output_type": "stream",
     "text": [
      "졌다.\n"
     ]
    },
    {
     "name": "stdin",
     "output_type": "stream",
     "text": [
      " y\n",
      " 바위\n"
     ]
    },
    {
     "name": "stdout",
     "output_type": "stream",
     "text": [
      "비겼다.\n"
     ]
    },
    {
     "name": "stdin",
     "output_type": "stream",
     "text": [
      " n\n"
     ]
    },
    {
     "name": "stdout",
     "output_type": "stream",
     "text": [
      "게임 끝\n"
     ]
    }
   ],
   "source": [
    "from random import *\n",
    "seed(0)\n",
    "\n",
    "game = ['가위','바위','보']\n",
    "y_or_n = 'y'\n",
    "while y_or_n.lower() == 'y' :\n",
    "    comp_choice = choice(game)\n",
    "\n",
    "    user_choice = input()\n",
    "\n",
    "    while user_choice not in game:\n",
    "        user_choice = input()\n",
    "\n",
    "    if comp_choice == user_choice:\n",
    "        print(\"비겼다.\")\n",
    "    elif comp_choice == '바위':\n",
    "        if user_choice == '보':\n",
    "            print('이겼다.')\n",
    "        else:\n",
    "            print('졌다.')\n",
    "            \n",
    "    elif comp_choice == '보' :\n",
    "        if user_choice == '가위':\n",
    "            print('이겼다.')\n",
    "        else:\n",
    "            print('졌다.')\n",
    "    else:\n",
    "        if user_choice == '바위':\n",
    "            print('이겼다.')\n",
    "        else:\n",
    "            print('졌다.')\n",
    "    y_or_n = input()\n",
    "    while y_or_n.lower()!='y' and y_or_n.lower()!='n':\n",
    "        y_or_n = input()\n",
    "        \n",
    "if y_or_n.lower() == 'n' :\n",
    "    print('게임 끝')"
   ]
  },
  {
   "cell_type": "code",
   "execution_count": null,
   "id": "0199ac03-e5f1-43f3-9db5-e1bab97aaac3",
   "metadata": {},
   "outputs": [],
   "source": [
    "#test case\n",
    "#input\n",
    "바위\n",
    "y\n",
    "가위\n",
    "y\n",
    "보\n",
    "n\n",
    "#output\n",
    "비겼다.\n",
    "졌다.\n",
    "졌다. \n",
    "게임 끝\n",
    "\n",
    "\n",
    "#input\n",
    "가위\n",
    "가위\n",
    "가위\n",
    "n\n",
    "#output\n",
    "졌다.\n",
    "게임 끝\n",
    "\n",
    "\n",
    "#input\n",
    "보\n",
    "y\n",
    "보\n",
    "y\n",
    "보\n",
    "n\n",
    "#output\n",
    "이겼다.\n",
    "이겼다.\n",
    "졌다.\n",
    "게임 끝\n",
    "\n",
    "#input\n",
    "보\n",
    "n\n",
    "#output\n",
    "이겼다. \n",
    "게임 끝\n",
    "\n",
    "#input\n",
    "가위\n",
    "y\n",
    "바위\n",
    "n\n",
    "#output\n",
    "졌다. \n",
    "비겼다. \n",
    "게임 끝"
   ]
  }
 ],
 "metadata": {
  "kernelspec": {
   "display_name": "Python 3 (ipykernel)",
   "language": "python",
   "name": "python3"
  },
  "language_info": {
   "codemirror_mode": {
    "name": "ipython",
    "version": 3
   },
   "file_extension": ".py",
   "mimetype": "text/x-python",
   "name": "python",
   "nbconvert_exporter": "python",
   "pygments_lexer": "ipython3",
   "version": "3.10.13"
  }
 },
 "nbformat": 4,
 "nbformat_minor": 5
}
