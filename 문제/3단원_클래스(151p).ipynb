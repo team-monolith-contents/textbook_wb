{
 "cells": [
  {
   "cell_type": "markdown",
   "id": "3c1d31e0-69b4-4767-8546-f774688974dd",
   "metadata": {},
   "source": [
    "\n",
    "# 클래스\n",
    "\n",
    "## 문제\n",
    "뺄셈과 나누기 클래스를 정의하고 실행하여 결괏값이 다음과 같이 나오도록 빈칸을 채우시오.  \n",
    "\n",
    "\n",
    "## 결괏값\n",
    "```\n",
    "8 - 5= 3입니다.\n",
    "8 ÷ 5= 1입니다.\n",
    "```\n"
   ]
  },
  {
   "cell_type": "code",
   "execution_count": 2,
   "id": "96d6d181-031e-4a2a-97a2-054e27e441e3",
   "metadata": {
    "codle/previous_execution": {
     "code": "#답안\nclass Calc(): \n    def sub(self,a,b): \n        result= a-b\n        print(\"%d - %d= %d입니다.\" %(a,b,result)) \n\n    def div(self,a,b): \n        result=a/b\n        print(\"%d ÷ %d= %d입니다.\" %(a,b, result))\n\nad=Calc()\nad.sub(8,5)\nad.div(8,5)",
     "id": "4643256"
    },
    "tags": []
   },
   "outputs": [
    {
     "name": "stdout",
     "output_type": "stream",
     "text": [
      "8 - 5= 3입니다.\n",
      "8 ÷ 5= 1입니다.\n"
     ]
    }
   ],
   "source": [
    "#답안\n",
    "class Calc(): \n",
    "    def sub(self,a,b): \n",
    "        result= a-b\n",
    "        print(\"%d - %d= %d입니다.\" %(a,b,result)) \n",
    "\n",
    "    def div(self,a,b): \n",
    "        result=a/b\n",
    "        print(\"%d ÷ %d= %d입니다.\" %(a,b, result))\n",
    "\n",
    "ad=Calc()\n",
    "ad.sub(8,5)\n",
    "ad.div(8,5)"
   ]
  },
  {
   "cell_type": "code",
   "execution_count": null,
   "id": "d2087b93-c1eb-4100-a85b-ce45f556d887",
   "metadata": {},
   "outputs": [],
   "source": [
    "#스켈레톤\n",
    "class Calc(): \n",
    "    def sub(self,a,b):  #뺄셈\n",
    "        result= #빈칸#\n",
    "        print(\"%d - %d= %d입니다.\" %(a,b,result)) \n",
    "\n",
    "    def div(self,a,b):  #나눗셈\n",
    "        result=a/b\n",
    "        print(\"%d ÷ %d= %d입니다.\" %(a,b, #빈칸# ))\n",
    "\n",
    "ad=Calc()\n",
    "ad.sub(8,5)\n",
    "ad.div(8,5)"
   ]
  },
  {
   "cell_type": "code",
   "execution_count": null,
   "id": "0199ac03-e5f1-43f3-9db5-e1bab97aaac3",
   "metadata": {},
   "outputs": [],
   "source": [
    "#test case\n",
    "#input\n",
    "#output\n",
    "\n",
    "#input\n",
    "#output\n",
    "\n",
    "#input\n",
    "#output\n",
    "\n",
    "#input\n",
    "#output\n",
    "\n",
    "#input\n",
    "#output"
   ]
  }
 ],
 "metadata": {
  "kernelspec": {
   "display_name": "Python 3 (ipykernel)",
   "language": "python",
   "name": "python3"
  },
  "language_info": {
   "codemirror_mode": {
    "name": "ipython",
    "version": 3
   },
   "file_extension": ".py",
   "mimetype": "text/x-python",
   "name": "python",
   "nbconvert_exporter": "python",
   "pygments_lexer": "ipython3",
   "version": "3.10.13"
  }
 },
 "nbformat": 4,
 "nbformat_minor": 5
}
