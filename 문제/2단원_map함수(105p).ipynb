{
 "cells": [
  {
   "cell_type": "markdown",
   "id": "3c1d31e0-69b4-4767-8546-f774688974dd",
   "metadata": {},
   "source": [
    "\n",
    "# map 함수\n",
    "\n",
    "## 문제\n",
    "파이썬 내장 함수인 map() 함수를 활용하여 아래 입력받는 코드를 간소화시켜 공백으로 구분된 두 개의 정수를 한 줄에 입력받는 소스 코드를 완성해 보자.   \n",
    "\n",
    "```python\n",
    "num1 = int(input(\"첫 번째 자연수를 입력하세요.\"))\n",
    "num2 = int(input(\"두 번째 자연수를 입력하세요.\"))\n",
    "print(num1+num2 )\n",
    "```\n",
    "\n",
    "(단, map 함수를 사용하여 한 줄로 표현할 것)\n",
    "\n",
    "## 입력\n",
    "2개의 정수가 공백으로 구분되어 한 줄에 입력됩니다.\n",
    "\n",
    "## 출력\n",
    "입력된 두 정수의 합을 출력합니다. \n",
    "\n",
    "## 예시 입력\n",
    "```\n",
    "1 3\n",
    "```\n",
    "\n",
    "## 예시 출력\n",
    "```\n",
    "4\n",
    "```\n"
   ]
  },
  {
   "cell_type": "code",
   "execution_count": 1,
   "id": "96d6d181-031e-4a2a-97a2-054e27e441e3",
   "metadata": {
    "codle/previous_execution": {
     "code": "#답안\nnum1, num2 = map(int, input().split())\nprint(num1+num2)",
     "id": "4512313"
    },
    "tags": []
   },
   "outputs": [
    {
     "name": "stdin",
     "output_type": "stream",
     "text": [
      " 1 3\n"
     ]
    },
    {
     "name": "stdout",
     "output_type": "stream",
     "text": [
      "4\n"
     ]
    }
   ],
   "source": [
    "#답안\n",
    "num1, num2 = map(int, input().split())\n",
    "print(num1+num2)"
   ]
  },
  {
   "cell_type": "code",
   "execution_count": null,
   "id": "d2087b93-c1eb-4100-a85b-ce45f556d887",
   "metadata": {},
   "outputs": [],
   "source": [
    "#스켈레톤\n",
    "# 여기에 코드를 한 줄만 작성해주세요\n",
    "#####################################\n",
    "\n",
    "#####################################\n",
    "print(num1+num2 )\n"
   ]
  },
  {
   "cell_type": "code",
   "execution_count": null,
   "id": "0199ac03-e5f1-43f3-9db5-e1bab97aaac3",
   "metadata": {},
   "outputs": [],
   "source": [
    "#test case\n",
    "#input\n",
    "#output\n",
    "\n",
    "#input\n",
    "#output\n",
    "\n",
    "#input\n",
    "#output\n",
    "\n",
    "#input\n",
    "#output\n",
    "\n",
    "#input\n",
    "#output"
   ]
  }
 ],
 "metadata": {
  "kernelspec": {
   "display_name": "Python 3 (ipykernel)",
   "language": "python",
   "name": "python3"
  },
  "language_info": {
   "codemirror_mode": {
    "name": "ipython",
    "version": 3
   },
   "file_extension": ".py",
   "mimetype": "text/x-python",
   "name": "python",
   "nbconvert_exporter": "python",
   "pygments_lexer": "ipython3",
   "version": "3.10.13"
  }
 },
 "nbformat": 4,
 "nbformat_minor": 5
}
