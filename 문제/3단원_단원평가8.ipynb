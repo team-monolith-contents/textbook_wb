{
 "cells": [
  {
   "cell_type": "markdown",
   "id": "3c1d31e0-69b4-4767-8546-f774688974dd",
   "metadata": {},
   "source": [
    "\n",
    "# 3단원 단원평가8\n",
    "\n",
    "## 문제\n",
    "random 모듈을 이용하여 다음과 같은 동전 던지기 게임을 작성하려고 한다. 빈칸의 소스들을 채워보자.\n",
    "\n",
    "\n",
    "\n",
    "## 예시 결과\n",
    "```\n",
    "동전 던지기를 시작합니다.\n",
    "뒷면\n",
    "동전 던지기를 계속하시겠어요?(yes or no)yes\n",
    "뒷면\n",
    "동전 던지기를 계속하시겠어요?(yes or no)yes\n",
    "뒷면\n",
    "동전 던지기를 계속하시겠어요?(yes or no)yes\n",
    "앞면\n",
    "동전 던지기를 계속하시겠어요?(yes or no)no\n",
    "동전 던지기를 종료합니다.\n",
    "```\n"
   ]
  },
  {
   "cell_type": "code",
   "execution_count": 8,
   "id": "96d6d181-031e-4a2a-97a2-054e27e441e3",
   "metadata": {
    "codle/previous_execution": {
     "code": "#답안\nimport random\nrandom.seed(0)\ncoinList=[\"앞면\",\"뒷면\"]\n\nprint(\"동전 던지기를 시작합니다.\")\n\ncoin=random.choice(coinList)\nprint(coin)\n\nwhile True:\n    response=input()\n\n    if response ==\"yes\":\n        coin=random.choice(coinList)\n        print(coin)\n    else:\n        break\n\nprint(\"동전 던지기를 종료합니다.\") ",
     "id": "4673311"
    },
    "tags": []
   },
   "outputs": [
    {
     "name": "stdout",
     "output_type": "stream",
     "text": [
      "동전 던지기를 시작합니다.\n",
      "뒷면\n"
     ]
    },
    {
     "name": "stdin",
     "output_type": "stream",
     "text": [
      " yes\n"
     ]
    },
    {
     "name": "stdout",
     "output_type": "stream",
     "text": [
      "뒷면\n"
     ]
    },
    {
     "name": "stdin",
     "output_type": "stream",
     "text": [
      " yes\n"
     ]
    },
    {
     "name": "stdout",
     "output_type": "stream",
     "text": [
      "앞면\n"
     ]
    },
    {
     "name": "stdin",
     "output_type": "stream",
     "text": [
      " yes\n"
     ]
    },
    {
     "name": "stdout",
     "output_type": "stream",
     "text": [
      "뒷면\n"
     ]
    },
    {
     "name": "stdin",
     "output_type": "stream",
     "text": [
      " yes\n"
     ]
    },
    {
     "name": "stdout",
     "output_type": "stream",
     "text": [
      "뒷면\n"
     ]
    },
    {
     "name": "stdin",
     "output_type": "stream",
     "text": [
      " yes\n"
     ]
    },
    {
     "name": "stdout",
     "output_type": "stream",
     "text": [
      "뒷면\n"
     ]
    },
    {
     "name": "stdin",
     "output_type": "stream",
     "text": [
      " yes\n"
     ]
    },
    {
     "name": "stdout",
     "output_type": "stream",
     "text": [
      "뒷면\n"
     ]
    },
    {
     "name": "stdin",
     "output_type": "stream",
     "text": [
      " yes\n"
     ]
    },
    {
     "name": "stdout",
     "output_type": "stream",
     "text": [
      "뒷면\n"
     ]
    },
    {
     "name": "stdin",
     "output_type": "stream",
     "text": [
      " no\n"
     ]
    },
    {
     "name": "stdout",
     "output_type": "stream",
     "text": [
      "동전 던지기를 종료합니다.\n"
     ]
    }
   ],
   "source": [
    "#답안\n",
    "import random\n",
    "random.seed(0)\n",
    "coinList=[\"앞면\",\"뒷면\"]\n",
    "\n",
    "print(\"동전 던지기를 시작합니다.\")\n",
    "\n",
    "coin=random.choice(coinList)\n",
    "print(coin)\n",
    "\n",
    "while True:\n",
    "    response=input()\n",
    "\n",
    "    if response ==\"yes\":\n",
    "        coin=random.choice(coinList)\n",
    "        print(coin)\n",
    "    else:\n",
    "        break\n",
    "\n",
    "print(\"동전 던지기를 종료합니다.\") "
   ]
  },
  {
   "cell_type": "code",
   "execution_count": null,
   "id": "d2087b93-c1eb-4100-a85b-ce45f556d887",
   "metadata": {},
   "outputs": [],
   "source": [
    "#스켈레톤\n",
    "import random\n",
    "coinList=[\"앞면\",\"뒛면\"]\n",
    "\n",
    "#######빈칸을 채워주세요#######\n",
    "\n",
    "coin=random.choice(coinList)\n",
    "print(coin)\n",
    "\n",
    "while True:\n",
    "    response=input(\"동전 던지기를 계속하시겠어요?(yesor no)\")\n",
    "\n",
    "    if response ==\"yes\":\n",
    "        coin=random.choice(coinList)\n",
    "        #####빈칸을 채워주세요#####\n",
    "    else:\n",
    "        break\n",
    "\n",
    "print(\"동전 던지기를 종료합니다.\") "
   ]
  },
  {
   "cell_type": "code",
   "execution_count": null,
   "id": "0199ac03-e5f1-43f3-9db5-e1bab97aaac3",
   "metadata": {},
   "outputs": [],
   "source": [
    "#test case\n",
    "#input\n",
    "#output\n",
    "\n",
    "#input\n",
    "#output\n",
    "\n",
    "#input\n",
    "#output\n",
    "\n",
    "#input\n",
    "#output\n",
    "\n",
    "#input\n",
    "#output"
   ]
  }
 ],
 "metadata": {
  "kernelspec": {
   "display_name": "Python 3 (ipykernel)",
   "language": "python",
   "name": "python3"
  },
  "language_info": {
   "codemirror_mode": {
    "name": "ipython",
    "version": 3
   },
   "file_extension": ".py",
   "mimetype": "text/x-python",
   "name": "python",
   "nbconvert_exporter": "python",
   "pygments_lexer": "ipython3",
   "version": "3.10.13"
  }
 },
 "nbformat": 4,
 "nbformat_minor": 5
}
