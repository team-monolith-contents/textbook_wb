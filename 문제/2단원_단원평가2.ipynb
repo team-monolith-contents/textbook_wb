{
 "cells": [
  {
   "cell_type": "markdown",
   "id": "3c1d31e0-69b4-4767-8546-f774688974dd",
   "metadata": {},
   "source": [
    "\n",
    "# 2단원 단원평가2\n",
    "\n",
    "## 문제\n",
    "1~50까지 숫자 중에 3의 배수의 합계를 구하는 프로그램을 작성하시오. \n",
    "\n",
    "## 입력\n",
    "입력값이 없습니다. \n",
    "\n",
    "## 출력\n",
    "1에서 50까지의 숫자 중 3의 배수의 합계를 출력합니다. \n",
    "\n"
   ]
  },
  {
   "cell_type": "code",
   "execution_count": 1,
   "id": "96d6d181-031e-4a2a-97a2-054e27e441e3",
   "metadata": {
    "codle/previous_execution": {
     "code": "#답안\nsum = 0\nfor i in range(1, 51):\n    if i%3==0:\n        sum += i\nprint(sum)",
     "id": "4512315"
    },
    "tags": []
   },
   "outputs": [
    {
     "name": "stdout",
     "output_type": "stream",
     "text": [
      "408\n"
     ]
    }
   ],
   "source": [
    "#답안\n",
    "sum = 0\n",
    "for i in range(1, 51):\n",
    "    if i%3==0:\n",
    "        sum += i\n",
    "print(sum)"
   ]
  },
  {
   "cell_type": "code",
   "execution_count": null,
   "id": "d2087b93-c1eb-4100-a85b-ce45f556d887",
   "metadata": {},
   "outputs": [],
   "source": [
    "#스켈레톤\n",
    "sum = 0  # 합계를 누적하는 변수\n",
    "\n",
    "# 여기에 코드를 작성해주세요\n",
    "##############################\n",
    "\n",
    "##############################\n",
    "\n",
    "print(sum)"
   ]
  },
  {
   "cell_type": "code",
   "execution_count": null,
   "id": "0199ac03-e5f1-43f3-9db5-e1bab97aaac3",
   "metadata": {},
   "outputs": [],
   "source": [
    "#test case\n",
    "#input\n",
    "#output\n",
    "408\n",
    "\n",
    "#input\n",
    "#output\n",
    "\n",
    "#input\n",
    "#output\n",
    "\n",
    "#input\n",
    "#output\n",
    "\n",
    "#input\n",
    "#output"
   ]
  }
 ],
 "metadata": {
  "kernelspec": {
   "display_name": "Python 3 (ipykernel)",
   "language": "python",
   "name": "python3"
  },
  "language_info": {
   "codemirror_mode": {
    "name": "ipython",
    "version": 3
   },
   "file_extension": ".py",
   "mimetype": "text/x-python",
   "name": "python",
   "nbconvert_exporter": "python",
   "pygments_lexer": "ipython3",
   "version": "3.10.13"
  }
 },
 "nbformat": 4,
 "nbformat_minor": 5
}
